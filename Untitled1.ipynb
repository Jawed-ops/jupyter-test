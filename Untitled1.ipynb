{
 "cells": [
  {
   "cell_type": "code",
   "execution_count": 1,
   "id": "eb942148-ebe1-4910-a2e4-f5de093129c7",
   "metadata": {},
   "outputs": [
    {
     "name": "stdout",
     "output_type": "stream",
     "text": [
      "Writing test.py\n"
     ]
    }
   ],
   "source": [
    "%%writefile test.py\n",
    "import numpy as np\n",
    "arr=np.random.randint(1,100,(4,4))\n",
    "mean_vals=np.mean(arr)\n",
    "std_vals=np.std(arr,axis=1)\n",
    "var_vals=np.var(arr,axis=1)\n",
    "print(\"Array:\",arr,sep=\"\\n\")\n",
    "print(\"Mean value:\",mean_vals)\n",
    "print(\"Standard deviation:\",std_vals)\n",
    "print(\"Varience:\",var_vals)\n"
   ]
  },
  {
   "cell_type": "code",
   "execution_count": 3,
   "id": "639161ae-8c57-4c1e-8d7e-8292913ff4fa",
   "metadata": {},
   "outputs": [
    {
     "data": {
      "text/plain": [
       "'C:\\\\Users\\\\user'"
      ]
     },
     "execution_count": 3,
     "metadata": {},
     "output_type": "execute_result"
    }
   ],
   "source": [
    "pwd"
   ]
  },
  {
   "cell_type": "code",
   "execution_count": 6,
   "id": "4a4bfbdc-e3b3-4991-bfea-2111fc906707",
   "metadata": {},
   "outputs": [
    {
     "name": "stdin",
     "output_type": "stream",
     "text": [
      "Enter the no. of rows:  4\n",
      "Enter the no. of columns:  4\n"
     ]
    },
    {
     "name": "stdout",
     "output_type": "stream",
     "text": [
      "Original Array:\n",
      "[[48 27 83 18]\n",
      " [48 74 36 12]\n",
      " [14 12 57 97]\n",
      " [12 60 43 58]]\n",
      "Shape of Array: (4, 4)\n",
      "Type of Array: <class 'numpy.ndarray'>\n",
      "Data Type: int32\n",
      "Reshape Array:\n",
      "[[48 27 83 18]\n",
      " [48 74 36 12]\n",
      " [14 12 57 97]\n",
      " [12 60 43 58]]\n"
     ]
    }
   ],
   "source": [
    "m=int(input(\"Enter the no. of rows: \"))\n",
    "n=int(input(\"Enter the no. of columns: \"))\n",
    "arr1=np.random.randint(1,100,(m,n))\n",
    "print(\"Original Array:\",arr1,sep=\"\\n\")\n",
    "print(\"Shape of Array:\",arr1.shape)\n",
    "print(\"Type of Array:\",type(arr1))\n",
    "print(\"Data Type:\",arr1.dtype)\n",
    "print(\"Reshape Array:\",arr1.reshape(n,m),sep=\"\\n\")"
   ]
  },
  {
   "cell_type": "code",
   "execution_count": 12,
   "id": "2229def2-4e5b-4110-af52-0ddaa79ed6b9",
   "metadata": {},
   "outputs": [
    {
     "name": "stdout",
     "output_type": "stream",
     "text": [
      "Zero Indices: (array([1, 7]),)\n",
      "Non Zero Indices: (array([0, 2, 3, 4, 5, 6]),)\n",
      "Nan Indices: (array([3, 6]),)\n"
     ]
    }
   ],
   "source": [
    "arr2=np.array([2,0,5,np.nan,4,7,np.nan,0])\n",
    "zero_indices=np.where(arr2==0)\n",
    "nonzero_indices=np.where(arr2!=0)\n",
    "nan_indices=np.where(np.isnan(arr2))\n",
    "print(\"Zero Indices:\",zero_indices)\n",
    "print(\"Non Zero Indices:\",nonzero_indices)\n",
    "print(\"Nan Indices:\",nan_indices)\n"
   ]
  },
  {
   "cell_type": "code",
   "execution_count": 14,
   "id": "cab94054-6941-476c-9adb-4ad67dd941f1",
   "metadata": {},
   "outputs": [
    {
     "name": "stdout",
     "output_type": "stream",
     "text": [
      "Array1: [18 15 23  8 39]\n",
      "Array2: [36 21 41 31 41]\n",
      "Array3: [34  1 23 10 49]\n",
      "Array4: [ -2 -20 -18 -21   8]\n",
      "Array5: [36 30 46 16 78]\n",
      "Coverience:\n",
      "[[135.3  121.45]\n",
      " [121.45 167.8 ]]\n",
      "Correlation:\n",
      "[[1. 1.]\n",
      " [1. 1.]]\n"
     ]
    }
   ],
   "source": [
    "size=5\n",
    "array1=np.random.randint(1,50,size)\n",
    "array2=np.random.randint(1,50,size)\n",
    "array3=np.random.randint(1,50,size)\n",
    "array4=array3-array2\n",
    "array5=2*array1\n",
    "covarience=np.cov(array1,array4)\n",
    "correlation=np.corrcoef(array1,array5)\n",
    "print(\"Array1:\",array1)\n",
    "print(\"Array2:\",array2)\n",
    "print(\"Array3:\",array3)\n",
    "print(\"Array4:\",array4)\n",
    "print(\"Array5:\",array5)\n",
    "print(\"Coverience:\",covarience,sep=\"\\n\")\n",
    "print(\"Correlation:\",correlation,sep=\"\\n\")\n"
   ]
  },
  {
   "cell_type": "code",
   "execution_count": 17,
   "id": "de300b14-5d6a-47d8-bf58-ba93905ca15f",
   "metadata": {},
   "outputs": [
    {
     "name": "stdout",
     "output_type": "stream",
     "text": [
      "Array1: [15 48 10 45 49  9 37 35  9 30]\n",
      "Array2: [34 34 27  8  3 11 30 41  2 15]\n",
      "Sum of first half: 273\n",
      "Product of second half: 1277306415000\n",
      "or\n",
      "[26 78 51 47 64]\n",
      "[ 165 1440  410   90  735]\n"
     ]
    }
   ],
   "source": [
    "size=10\n",
    "Array1=np.random.randint(1,50,size)\n",
    "Array2=np.random.randint(1,50,size)\n",
    "sum_of_firsthalf=np.sum(Array1[:size//2])+np.sum(Array2[:size//2])\n",
    "prod_of_secondhalf=np.prod(Array1[size//2:]*Array2[size//2:])\n",
    "print(\"Array1:\",Array1)\n",
    "print(\"Array2:\",Array2)\n",
    "print(\"Sum of first half:\",sum_of_firsthalf)\n",
    "print(\"Product of second half:\",prod_of_secondhalf)\n",
    "print(\"or\")\n",
    "sumarray=Array1[0:5]+Array2[5:10]\n",
    "prodarray=Array1[0:5]*Array2[5:10]\n",
    "print(sumarray)\n",
    "print(prodarray)"
   ]
  },
  {
   "cell_type": "code",
   "execution_count": null,
   "id": "5e1fd693-7d30-4f69-8f11-98f1c000f8c9",
   "metadata": {},
   "outputs": [],
   "source": []
  }
 ],
 "metadata": {
  "kernelspec": {
   "display_name": "Python 3 (ipykernel)",
   "language": "python",
   "name": "python3"
  },
  "language_info": {
   "codemirror_mode": {
    "name": "ipython",
    "version": 3
   },
   "file_extension": ".py",
   "mimetype": "text/x-python",
   "name": "python",
   "nbconvert_exporter": "python",
   "pygments_lexer": "ipython3",
   "version": "3.13.3"
  }
 },
 "nbformat": 4,
 "nbformat_minor": 5
}
