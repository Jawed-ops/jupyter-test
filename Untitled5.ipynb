{
 "cells": [
  {
   "cell_type": "code",
   "execution_count": null,
   "id": "5abd13bb-d973-49c2-b6b4-0223d65f136f",
   "metadata": {},
   "outputs": [],
   "source": [
    "import numpy as np\n",
    "arr=np.random.randint(1,100,(4,4))\n",
    "mean_vals=np.mean(arr)\n",
    "std_vals=np.std(arr,axis=1)\n",
    "var_vals=np.var(arr,axis=1)\n",
    "print(\"Array:\",arr,sep=\"\\n\")\n",
    "print(\"Mean value:\",mean_vals)\n",
    "print(\"Standard deviation:\",std_vals)\n",
    "print(\"Varience:\",var_vals)\n"
   ]
  }
 ],
 "metadata": {
  "kernelspec": {
   "display_name": "Python 3 (ipykernel)",
   "language": "python",
   "name": "python3"
  },
  "language_info": {
   "codemirror_mode": {
    "name": "ipython",
    "version": 3
   },
   "file_extension": ".py",
   "mimetype": "text/x-python",
   "name": "python",
   "nbconvert_exporter": "python",
   "pygments_lexer": "ipython3",
   "version": "3.13.3"
  }
 },
 "nbformat": 4,
 "nbformat_minor": 5
}
